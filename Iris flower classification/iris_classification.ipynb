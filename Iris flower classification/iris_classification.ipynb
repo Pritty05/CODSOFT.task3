{
 "cells": [
  {
   "cell_type": "markdown",
   "metadata": {},
   "source": [
    "# Iris Flowers Classification"
   ]
  },
  {
   "cell_type": "markdown",
   "metadata": {},
   "source": [
    "## Table of contents\n",
    "\n",
    "1. [Introduction](#intro)\n",
    "2. [Iris Data Set](#data)\n",
    "3. [Pre-processing](#pre-processing)\n",
    "4. [Classification Models](#models)\n",
    "    - [K Nearest Neighbours](#KNN)\n",
    "    - [Decision Tree](#decision-tree)\n",
    "    - [Support Vector Machine](#SVM) \n",
    "    - [Logistic Regression](#LR)  \n",
    "5. [Results and Discussion](#results)\n",
    "6. [Conclusion](#conclusion)"
   ]
  },
  {
   "cell_type": "markdown",
   "metadata": {},
   "source": [
    "## Introduction:<a name=\"intro\"></a>"
   ]
  },
  {
   "cell_type": "markdown",
   "metadata": {},
   "source": [
    "**Iris** is a genus of around 300 species of flowering plants. It takes the name from the Greek goddess of rainbow, *Iris*. \n",
    "\n",
    "The **Iris flower data set** is also know as the **Fisher's Iris data set**. It is a multivariate data set introduced by Ronald Fisher in his paper, **The use of multiple measurements in taxonomic problems** as an example of linear discriminant analysis.\n"
   ]
  },
  {
   "cell_type": "markdown",
   "metadata": {},
   "source": [
    "The data set is available at https://archive.ics.uci.edu/ml/datasets/iris, the errors are modified as well. It consists the following information for 150 samples,\n",
    "\n",
    "1. sepal length (in cm)\n",
    "2. sepal width (in cm)\n",
    "3. petal length (in cm)\n",
    "4. petal width (in cm)\n",
    "5. class:\n",
    "    - Iris Setosa\n",
    "    - Iris Versicolour\n",
    "    - Iris Virginica\n",
    "    \n",
    "Download and save the dataset into the same folder as this program."
   ]
  },
  {
   "cell_type": "markdown",
   "metadata": {},
   "source": [
    "**Classification models** can be used to predict the dependent variable (**_class of each flower_**). Here we are going to use 4 different algorithms for classification namely, **K-Nearest Neighbours**, **Decision Tree**, **Support Vector Machine** and **Linear Regression**. Atlast we compare their accuracy to find the suitable classification technique for this problem. The given dataset is seperated into two seperate train and test sets. The train set is used to train the model, and the test set is used to predict the accuracy of each model. Finally, we compare the results.\n"
   ]
  },
  {
   "cell_type": "markdown",
   "metadata": {},
   "source": [
    "### Import required libraries:"
   ]
  },
  {
   "cell_type": "code",
   "execution_count": 1,
   "metadata": {},
   "outputs": [
    {
     "name": "stdout",
     "output_type": "stream",
     "text": [
      "Libraries Imported.\n"
     ]
    }
   ],
   "source": [
    "import numpy as np\n",
    "import pandas as pd\n",
    "\n",
    "from sklearn import preprocessing\n",
    "from sklearn.model_selection import train_test_split\n",
    "\n",
    "from sklearn.neighbors import KNeighborsClassifier\n",
    "from sklearn.tree import DecisionTreeClassifier\n",
    "from sklearn import svm\n",
    "from sklearn.linear_model import LogisticRegression\n",
    "\n",
    "from sklearn.metrics import accuracy_score, confusion_matrix\n",
    "from sklearn.metrics import jaccard_similarity_score, f1_score, log_loss\n",
    "\n",
    "import seaborn as sns\n",
    "\n",
    "import matplotlib.pyplot as plt\n",
    "%matplotlib inline\n",
    "\n",
    "print(\"Libraries Imported.\")"
   ]
  },
  {
   "cell_type": "markdown",
   "metadata": {},
   "source": [
    "## Iris Data Set:<a name=\"data\"></a>"
   ]
  },
  {
   "cell_type": "code",
   "execution_count": 2,
   "metadata": {},
   "outputs": [],
   "source": [
    "#define the column names for the pandas dataframe\n",
    "column_names = ['sepal_length', 'sepal_width', 'petal_length', 'petal_width', 'iris_class']\n",
    "\n",
    "#load the csv file into a new pandas dataframe\n",
    "iris_df = pd.read_csv('iris_data.csv', names = column_names, header = None)"
   ]
  },
  {
   "cell_type": "code",
   "execution_count": 3,
   "metadata": {},
   "outputs": [
    {
     "name": "stdout",
     "output_type": "stream",
     "text": [
      "(150, 5)\n"
     ]
    },
    {
     "data": {
      "text/html": [
       "<div>\n",
       "<style scoped>\n",
       "    .dataframe tbody tr th:only-of-type {\n",
       "        vertical-align: middle;\n",
       "    }\n",
       "\n",
       "    .dataframe tbody tr th {\n",
       "        vertical-align: top;\n",
       "    }\n",
       "\n",
       "    .dataframe thead th {\n",
       "        text-align: right;\n",
       "    }\n",
       "</style>\n",
       "<table border=\"1\" class=\"dataframe\">\n",
       "  <thead>\n",
       "    <tr style=\"text-align: right;\">\n",
       "      <th></th>\n",
       "      <th>sepal_length</th>\n",
       "      <th>sepal_width</th>\n",
       "      <th>petal_length</th>\n",
       "      <th>petal_width</th>\n",
       "      <th>iris_class</th>\n",
       "    </tr>\n",
       "  </thead>\n",
       "  <tbody>\n",
       "    <tr>\n",
       "      <th>0</th>\n",
       "      <td>5.1</td>\n",
       "      <td>3.5</td>\n",
       "      <td>1.4</td>\n",
       "      <td>0.2</td>\n",
       "      <td>Iris-setosa</td>\n",
       "    </tr>\n",
       "    <tr>\n",
       "      <th>1</th>\n",
       "      <td>4.9</td>\n",
       "      <td>3.0</td>\n",
       "      <td>1.4</td>\n",
       "      <td>0.2</td>\n",
       "      <td>Iris-setosa</td>\n",
       "    </tr>\n",
       "    <tr>\n",
       "      <th>2</th>\n",
       "      <td>4.7</td>\n",
       "      <td>3.2</td>\n",
       "      <td>1.3</td>\n",
       "      <td>0.2</td>\n",
       "      <td>Iris-setosa</td>\n",
       "    </tr>\n",
       "    <tr>\n",
       "      <th>3</th>\n",
       "      <td>4.6</td>\n",
       "      <td>3.1</td>\n",
       "      <td>1.5</td>\n",
       "      <td>0.2</td>\n",
       "      <td>Iris-setosa</td>\n",
       "    </tr>\n",
       "    <tr>\n",
       "      <th>4</th>\n",
       "      <td>5.0</td>\n",
       "      <td>3.6</td>\n",
       "      <td>1.4</td>\n",
       "      <td>0.2</td>\n",
       "      <td>Iris-setosa</td>\n",
       "    </tr>\n",
       "  </tbody>\n",
       "</table>\n",
       "</div>"
      ],
      "text/plain": [
       "   sepal_length  sepal_width  petal_length  petal_width   iris_class\n",
       "0           5.1          3.5           1.4          0.2  Iris-setosa\n",
       "1           4.9          3.0           1.4          0.2  Iris-setosa\n",
       "2           4.7          3.2           1.3          0.2  Iris-setosa\n",
       "3           4.6          3.1           1.5          0.2  Iris-setosa\n",
       "4           5.0          3.6           1.4          0.2  Iris-setosa"
      ]
     },
     "execution_count": 3,
     "metadata": {},
     "output_type": "execute_result"
    }
   ],
   "source": [
    "print(iris_df.shape)\n",
    "iris_df.head()"
   ]
  },
  {
   "cell_type": "code",
   "execution_count": 4,
   "metadata": {},
   "outputs": [
    {
     "data": {
      "text/plain": [
       "Iris-versicolor    50\n",
       "Iris-setosa        50\n",
       "Iris-virginica     50\n",
       "Name: iris_class, dtype: int64"
      ]
     },
     "execution_count": 4,
     "metadata": {},
     "output_type": "execute_result"
    }
   ],
   "source": [
    "iris_df['iris_class'].value_counts()"
   ]
  },
  {
   "cell_type": "markdown",
   "metadata": {},
   "source": [
    "The datset consists of **150 samples** in total. Each class of iris flowers consists of **50 samples each**."
   ]
  },
  {
   "cell_type": "markdown",
   "metadata": {},
   "source": [
    "## Pre-processing:<a name=\"pre-processing\"></a>"
   ]
  },
  {
   "cell_type": "markdown",
   "metadata": {},
   "source": [
    "### Define input and output variables:"
   ]
  },
  {
   "cell_type": "code",
   "execution_count": 5,
   "metadata": {},
   "outputs": [
    {
     "data": {
      "text/plain": [
       "array([[5.1, 3.5, 1.4, 0.2],\n",
       "       [4.9, 3. , 1.4, 0.2],\n",
       "       [4.7, 3.2, 1.3, 0.2],\n",
       "       [4.6, 3.1, 1.5, 0.2],\n",
       "       [5. , 3.6, 1.4, 0.2]])"
      ]
     },
     "execution_count": 5,
     "metadata": {},
     "output_type": "execute_result"
    }
   ],
   "source": [
    "#Load the input variables into X\n",
    "\n",
    "X = iris_df[['sepal_length', 'sepal_width', 'petal_length', 'petal_width']].values\n",
    "X[0:5]"
   ]
  },
  {
   "cell_type": "code",
   "execution_count": 6,
   "metadata": {
    "scrolled": true
   },
   "outputs": [
    {
     "data": {
      "text/plain": [
       "array(['Iris-setosa', 'Iris-setosa', 'Iris-setosa', 'Iris-setosa',\n",
       "       'Iris-setosa'], dtype=object)"
      ]
     },
     "execution_count": 6,
     "metadata": {},
     "output_type": "execute_result"
    }
   ],
   "source": [
    "#Load the output variable into y\n",
    "\n",
    "y = iris_df['iris_class'].values\n",
    "y[0:5]"
   ]
  },
  {
   "cell_type": "markdown",
   "metadata": {},
   "source": [
    "### Split datset into train and test sets:\n",
    "\n",
    "Let us consider 70% data for training and 30% of data for testing."
   ]
  },
  {
   "cell_type": "code",
   "execution_count": 7,
   "metadata": {},
   "outputs": [
    {
     "name": "stdout",
     "output_type": "stream",
     "text": [
      "Train set: (105, 4) (105,)\n",
      "Test set: (45, 4) (45,)\n"
     ]
    }
   ],
   "source": [
    "X_train, X_test, y_train, y_test = train_test_split(X, y, test_size = 0.3, random_state = 3)\n",
    "print ('Train set:', X_train.shape,  y_train.shape)\n",
    "print ('Test set:', X_test.shape,  y_test.shape)"
   ]
  },
  {
   "cell_type": "code",
   "execution_count": 8,
   "metadata": {},
   "outputs": [
    {
     "data": {
      "text/plain": [
       "(array(['Iris-setosa', 'Iris-versicolor', 'Iris-virginica'], dtype=object),\n",
       " array([17, 14, 14], dtype=int64))"
      ]
     },
     "execution_count": 8,
     "metadata": {},
     "output_type": "execute_result"
    }
   ],
   "source": [
    "np.unique(y_test, return_counts=True)"
   ]
  },
  {
   "cell_type": "markdown",
   "metadata": {},
   "source": [
    "### Normalize the feature set X_train and X_test:"
   ]
  },
  {
   "cell_type": "code",
   "execution_count": 9,
   "metadata": {},
   "outputs": [
    {
     "data": {
      "text/plain": [
       "array([[ 0.68955032,  0.29978535,  0.38919985,  0.37287433],\n",
       "       [-0.96174124,  0.536458  , -1.22696903, -0.9588197 ],\n",
       "       [ 0.18146061, -0.88357788,  0.73552176,  0.50604373],\n",
       "       [-0.07258424, -0.88357788,  0.73552176,  0.90555194],\n",
       "       [-0.58067396, -0.17355994,  0.38919985,  0.37287433]])"
      ]
     },
     "execution_count": 9,
     "metadata": {},
     "output_type": "execute_result"
    }
   ],
   "source": [
    "X_train = preprocessing.StandardScaler().fit(X_train).transform(X_train.astype(float))\n",
    "X_train[0:5]"
   ]
  },
  {
   "cell_type": "code",
   "execution_count": 10,
   "metadata": {},
   "outputs": [
    {
     "data": {
      "text/plain": [
       "array([[-1.33519891,  0.39233578, -1.21491142, -1.22307682],\n",
       "       [-1.33519891,  0.17437146, -1.15968817, -1.22307682],\n",
       "       [-0.45323266,  0.82826443, -1.15968817, -0.96588777],\n",
       "       [-0.89421579, -0.04359286, -1.10446493, -1.22307682],\n",
       "       [-0.12249531,  3.00790765, -1.15968817, -0.96588777]])"
      ]
     },
     "execution_count": 10,
     "metadata": {},
     "output_type": "execute_result"
    }
   ],
   "source": [
    "X_test = preprocessing.StandardScaler().fit(X_test).transform(X_test.astype(float))\n",
    "X_test[0:5]"
   ]
  },
  {
   "cell_type": "markdown",
   "metadata": {},
   "source": [
    "## Function to plot the confusion matrix:\n",
    "\n",
    "Let us define a function that plots the confusion matrix for the classification models. The predicted values, yhat from each model is given as an argument to the plot function."
   ]
  },
  {
   "cell_type": "code",
   "execution_count": 11,
   "metadata": {},
   "outputs": [],
   "source": [
    "def confusion_matrix_plot(yhat):\n",
    "    labels = ['Iris-virginica', 'Iris-setosa', 'Iris-versicolor']\n",
    "\n",
    "    matrix = confusion_matrix(yhat, y_test, labels=labels)\n",
    "\n",
    "    fig, ax = plt.subplots(figsize=(8,6))\n",
    "    ax = sns.heatmap(matrix, annot = True, xticklabels = labels, yticklabels = labels, cmap = \"Blues\")\n",
    "    ax.set_title(\"Confusion Matrix\", fontsize=18)\n",
    "    ax.set_xlabel(\"Predicted\", fontsize=14)\n",
    "    ax.set_ylabel(\"Actual\", fontsize=14)"
   ]
  },
  {
   "cell_type": "markdown",
   "metadata": {},
   "source": [
    "# Classification Models:<a name=\"models\"></a>"
   ]
  },
  {
   "cell_type": "markdown",
   "metadata": {},
   "source": [
    "## K Nearest Neighbours:<a name=\"KNN\"></a>"
   ]
  },
  {
   "cell_type": "markdown",
   "metadata": {},
   "source": [
    "Since we know that there are 3 classes of iris flowers, we fix the **k value to 3**."
   ]
  },
  {
   "cell_type": "code",
   "execution_count": 12,
   "metadata": {},
   "outputs": [
    {
     "name": "stdout",
     "output_type": "stream",
     "text": [
      "Accuracy of the KNN model:  0.9111111111111111\n"
     ]
    }
   ],
   "source": [
    "#Create an instance of the KNN classifier with k = 3\n",
    "neigh = KNeighborsClassifier(n_neighbors = 3)\n",
    "\n",
    "#Fit the model with the training data X_train and y_train\n",
    "neigh.fit(X_train,y_train)\n",
    "\n",
    "#Use the test data X_test to predict the output, yhat_KNN\n",
    "yhat_KNN = neigh.predict(X_test)\n",
    "\n",
    "#Use the real values y_test and the predicted values yhat_KNN to find the accuracy of the model \n",
    "print(\"Accuracy of the KNN model: \", accuracy_score(y_test, yhat_KNN))"
   ]
  },
  {
   "cell_type": "code",
   "execution_count": 13,
   "metadata": {
    "scrolled": false
   },
   "outputs": [
    {
     "data": {
      "image/png": "[encoded data removed]",
      "text/plain": [
       "<Figure size 576x432 with 2 Axes>"
      ]
     },
     "metadata": {},
     "output_type": "display_data"
    }
   ],
   "source": [
    "#Plot the confusion matrix. Use the predicted values, yhat_KNN as the attribute.\n",
    "confusion_matrix_plot(yhat_KNN)"
   ]
  },
  {
   "cell_type": "markdown",
   "metadata": {},
   "source": [
    "**41 samples** from the 45 test samples were predicted correctly, which is an accuracy of **91.11%**"
   ]
  },
  {
   "cell_type": "code",
   "execution_count": 14,
   "metadata": {
    "scrolled": true
   },
   "outputs": [
    {
     "name": "stdout",
     "output_type": "stream",
     "text": [
      "Jaccard Similarity Score:  0.9111111111111111\n",
      "                f1_score:  0.9105814138072204\n"
     ]
    }
   ],
   "source": [
    "#Use the real values y_test and the predicted values yhat_KNN to estimate the Jaccard Similarity Score and the F1-Score.\n",
    "print(\"Jaccard Similarity Score: \", jaccard_similarity_score(y_test, yhat_KNN))\n",
    "print(\"                f1_score: \", f1_score(y_test, yhat_KNN, average='weighted'))"
   ]
  },
  {
   "cell_type": "markdown",
   "metadata": {},
   "source": [
    "## Decision Tree:<a name=\"decision-tree\"></a>"
   ]
  },
  {
   "cell_type": "code",
   "execution_count": 15,
   "metadata": {},
   "outputs": [
    {
     "name": "stdout",
     "output_type": "stream",
     "text": [
      "Accuracy of the Decision Tree:  0.9333333333333333\n"
     ]
    }
   ],
   "source": [
    "#Create an instance of the decision tree classifier\n",
    "dec_tree = DecisionTreeClassifier(criterion=\"entropy\")\n",
    "\n",
    "#Fit the model with the training data X_train and y_train\n",
    "dec_tree.fit(X_train, y_train)\n",
    "\n",
    "#Use the test data X_test to predict the output, yhat_tree\n",
    "yhat_tree = dec_tree.predict(X_test)\n",
    "\n",
    "#Use the real values y_test and the predicted values yhat_tree to find the accuracy of the model \n",
    "print(\"Accuracy of the Decision Tree: \", accuracy_score(y_test, yhat_tree))"
   ]
  },
  {
   "cell_type": "code",
   "execution_count": 16,
   "metadata": {},
   "outputs": [
    {
     "data": {
      "image/png": "[encoded data removed]",
      "text/plain": [
       "<Figure size 576x432 with 2 Axes>"
      ]
     },
     "metadata": {},
     "output_type": "display_data"
    }
   ],
   "source": [
    "#Plot the confusion matrix. Use the predicted values, yhat_tree as the attribute.\n",
    "confusion_matrix_plot(yhat_tree)"
   ]
  },
  {
   "cell_type": "markdown",
   "metadata": {},
   "source": [
    "**42 samples** from the 45 test samples were predicted correctly, which is an accuarcy of **93.33%**"
   ]
  },
  {
   "cell_type": "code",
   "execution_count": 17,
   "metadata": {},
   "outputs": [
    {
     "name": "stdout",
     "output_type": "stream",
     "text": [
      "Jaccard Similarity Score:  0.9333333333333333\n",
      "                f1_score:  0.933248190719455\n"
     ]
    }
   ],
   "source": [
    "#Use the real values y_test and the predicted values yhat_tree to estimate the Jaccard Similarity Score and the F1-Score.\n",
    "print(\"Jaccard Similarity Score: \", jaccard_similarity_score(y_test, yhat_tree))\n",
    "print(\"                f1_score: \", f1_score(y_test, yhat_tree, average='weighted'))"
   ]
  },
  {
   "cell_type": "markdown",
   "metadata": {},
   "source": [
    "## Support Vector Machine:<a name=\"SVM\"></a>"
   ]
  },
  {
   "cell_type": "code",
   "execution_count": 18,
   "metadata": {},
   "outputs": [
    {
     "name": "stdout",
     "output_type": "stream",
     "text": [
      "Accuracy of the SVM Model : 0.9111111111111111\n"
     ]
    }
   ],
   "source": [
    "#Create an instance of the svm classifier using the kernel function, rbf (Radial Basis Function)\n",
    "svm_model = svm.SVC(kernel='rbf', gamma = 'auto')\n",
    "\n",
    "#Fit the model with the training data X_train and y_train\n",
    "svm_model.fit(X_train, y_train)\n",
    "\n",
    "#Use the test data X_test to predict the output, yhat_svm\n",
    "yhat_svm = svm_model.predict(X_test)\n",
    "\n",
    "#Use the real values y_test and the predicted values yhat_svm to find the accuracy of the model \n",
    "print(\"Accuracy of the SVM Model :\", accuracy_score(y_test, yhat_svm))"
   ]
  },
  {
   "cell_type": "code",
   "execution_count": 19,
   "metadata": {},
   "outputs": [
    {
     "data": {
      "image/png": "[encoded data removed]",
      "text/plain": [
       "<Figure size 576x432 with 2 Axes>"
      ]
     },
     "metadata": {},
     "output_type": "display_data"
    }
   ],
   "source": [
    "#Plot the confusion matrix. Use the predicted values, yhat_svm as the attribute.\n",
    "confusion_matrix_plot(yhat_svm)"
   ]
  },
  {
   "cell_type": "markdown",
   "metadata": {},
   "source": [
    "**41 samples** from the 45 test samples were predicted correctly, which is an accuarcy of **84.44%**"
   ]
  },
  {
   "cell_type": "code",
   "execution_count": 20,
   "metadata": {},
   "outputs": [
    {
     "name": "stdout",
     "output_type": "stream",
     "text": [
      "Jaccard Similarity Score:  0.9111111111111111\n",
      "                f1_score:  0.9105814138072204\n"
     ]
    }
   ],
   "source": [
    "#Use the real values y_test and the predicted values yhat_svm to estimate the Jaccard Similarity Score and the F1-Score.\n",
    "print(\"Jaccard Similarity Score: \", jaccard_similarity_score(y_test, yhat_svm))\n",
    "print(\"                f1_score: \", f1_score(y_test, yhat_svm, average='weighted'))"
   ]
  },
  {
   "cell_type": "markdown",
   "metadata": {},
   "source": [
    "## Logistic Regression:<a name=\"LR\"></a>"
   ]
  },
  {
   "cell_type": "code",
   "execution_count": 21,
   "metadata": {},
   "outputs": [
    {
     "name": "stdout",
     "output_type": "stream",
     "text": [
      "Accuracy of the SVM Model : 0.8444444444444444\n"
     ]
    }
   ],
   "source": [
    "#Create an instance of the Logistic Regression classification model\n",
    "#using the 'liblinear' optimizer and set C, the Inverse of regularization strength to 0.01\n",
    "LR = LogisticRegression(C=0.01, solver='liblinear')\n",
    "\n",
    "#Fit the model with the training data X_train and y_train\n",
    "LR.fit(X_train,y_train)\n",
    "\n",
    "#Use the test data X_test to predict the output, yhat_LR\n",
    "yhat_LR = LR.predict(X_test)\n",
    "\n",
    "#Use the real values y_test and the predicted values yhat_LR to find the accuracy of the model \n",
    "print(\"Accuracy of the SVM Model :\", accuracy_score(y_test, yhat_LR))"
   ]
  },
  {
   "cell_type": "code",
   "execution_count": 22,
   "metadata": {},
   "outputs": [
    {
     "data": {
      "image/png": "[encoded data removed]",
      "text/plain": [
       "<Figure size 576x432 with 2 Axes>"
      ]
     },
     "metadata": {},
     "output_type": "display_data"
    }
   ],
   "source": [
    "#Plot the confusion matrix. Use the predicted values, yhat_LR as the attribute.\n",
    "confusion_matrix_plot(yhat_LR)"
   ]
  },
  {
   "cell_type": "markdown",
   "metadata": {},
   "source": [
    "**38 samples** from the 45 test samples were predicted correctly, which is an accuarcy of **84.44%**"
   ]
  },
  {
   "cell_type": "code",
   "execution_count": 23,
   "metadata": {},
   "outputs": [],
   "source": [
    "#predict_proba returns estimates for all classes, ordered by the label of classes. It is used to compute the Log Loss.\n",
    "yhat_prob_LR = LR.predict_proba(X_test)"
   ]
  },
  {
   "cell_type": "code",
   "execution_count": 24,
   "metadata": {},
   "outputs": [
    {
     "name": "stdout",
     "output_type": "stream",
     "text": [
      "Jaccard Similarity Score:  0.8444444444444444\n",
      "                f1_score:  0.8340740740740741\n",
      "                Log Loss:  0.8385626394846017\n"
     ]
    }
   ],
   "source": [
    "#Use the real values y_test and the predicted values yhat_LR to estimate the Jaccard Similarity Score, F1-Score and the Log Loss.\n",
    "print(\"Jaccard Similarity Score: \", jaccard_similarity_score(y_test, yhat_LR))\n",
    "print(\"                f1_score: \", f1_score(y_test, yhat_LR, average='weighted'))\n",
    "print(\"                Log Loss: \", log_loss(y_test, yhat_prob_LR))"
   ]
  },
  {
   "cell_type": "markdown",
   "metadata": {},
   "source": [
    "## Results and Discussion:<a name=\"results\"></a>"
   ]
  },
  {
   "cell_type": "markdown",
   "metadata": {},
   "source": [
    "### Accuracy Comparison:"
   ]
  },
  {
   "cell_type": "markdown",
   "metadata": {},
   "source": [
    "| Algorithm               |  Jaccard Similarity Score  |  F1 score  |  Log Loss  |\n",
    "|-------------------------|----------------------------|------------|------------|\n",
    "| K Nearest Neighbour     | 0.91                       | 0.91       | NA         |\n",
    "| Decision Tree           | 0.93                       | 0.93       | NA         |\n",
    "| Support Vector Machine  | 0.91                       | 0.91       | NA         |\n",
    "| Logistic Regression     | 0.84                       | 0.83       | 0.84       |"
   ]
  },
  {
   "cell_type": "markdown",
   "metadata": {},
   "source": [
    "Comparing the scores and accuarcy of each model, it is seen the **Decision Tree** classification algorithm provides the highest accuracy for this problem using the Iris Data Set.\n",
    "\n",
    "It is always the best practice to train the model using the complete dataset i.e. not to waste any part of the available data.\n"
   ]
  },
  {
   "cell_type": "markdown",
   "metadata": {},
   "source": [
    "### Model the complete Dataset using the best classifier:"
   ]
  },
  {
   "cell_type": "markdown",
   "metadata": {},
   "source": [
    "In this case it is the, **Decision** classification algorithm."
   ]
  },
  {
   "cell_type": "code",
   "execution_count": 25,
   "metadata": {},
   "outputs": [
    {
     "name": "stdout",
     "output_type": "stream",
     "text": [
      "Training set accuracy of the Final Decision Tree Model : 1.0\n"
     ]
    }
   ],
   "source": [
    "#Create an instance of the decision tree classifier\n",
    "final_model = DecisionTreeClassifier(criterion=\"entropy\")\n",
    "\n",
    "#Fit the model with the complete data set X and y\n",
    "final_model.fit(X, y)\n",
    "\n",
    "#Training set accuracy of the model\n",
    "yhat_final = final_model.predict(X)\n",
    "print(\"Training set accuracy of the Final Decision Tree Model :\", accuracy_score(y, yhat_final))"
   ]
  },
  {
   "cell_type": "markdown",
   "metadata": {},
   "source": [
    "## Conclusion:<a name=\"conclusion\"></a>"
   ]
  },
  {
   "cell_type": "markdown",
   "metadata": {},
   "source": [
    "The purpose of this project was to compare different classification algorithms to predict the class of the iris flowers. Find and compare the accuracy of each model to find the best classifier. Finally train the model using the complete dataset.\n",
    "\n",
    "The **final_model** computed here can be used to predict the class of the iris flowers as **Iris Setosa (or) Iris Versicolour (or) Iris Virginica** given its attribute information namely the **sepal length, sepal width, petal length and petal width** values in centimeter.\n",
    "\n",
    "[Refer here](https://github.com/rohithaug/iris-flower-classification/blob/master/iris_decision_tree.ipynb) for the code to visualize the Decision Tree Model."
   ]
  },
  {
   "cell_type": "markdown",
   "metadata": {},
   "source": [
    "## Thank you\n",
    "\n",
    "I hope you found the project useful and interesting. Feel free to contact me if you have any queries or suggestions.\n",
    "\n",
    "This notebook was developed by [Rohith S P](https://www.linkedin.com/in/rohithsp/). "
   ]
  }
 ],
 "metadata": {
  "kernelspec": {
   "display_name": "Python 3",
   "language": "python",
   "name": "python3"
  },
  "language_info": {
   "codemirror_mode": {
    "name": "ipython",
    "version": 3
   },
   "file_extension": ".py",
   "mimetype": "text/x-python",
   "name": "python",
   "nbconvert_exporter": "python",
   "pygments_lexer": "ipython3",
   "version": "3.6.5"
  }
 },
 "nbformat": 4,
 "nbformat_minor": 2
}
